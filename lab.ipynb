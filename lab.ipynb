{
 "cells": [
  {
   "cell_type": "code",
   "execution_count": 58,
   "metadata": {},
   "outputs": [],
   "source": [
    "from tqdm import tqdm\n",
    "import encodings"
   ]
  },
  {
   "cell_type": "code",
   "execution_count": 59,
   "metadata": {},
   "outputs": [],
   "source": [
    "wordListPath = './storage/rockyou.txt'"
   ]
  },
  {
   "cell_type": "code",
   "execution_count": 39,
   "metadata": {},
   "outputs": [],
   "source": [
    "binaryList = []"
   ]
  },
  {
   "cell_type": "code",
   "execution_count": 40,
   "metadata": {},
   "outputs": [
    {
     "name": "stderr",
     "output_type": "stream",
     "text": [
      "Processing lines: 763454it [00:00, 995563.47it/s]"
     ]
    },
    {
     "name": "stdout",
     "output_type": "stream",
     "text": [
      "Error decoding line 602042: b'peque\\xf1a\\n' - 'utf-8' codec can't decode byte 0xf1 in position 5: invalid continuation byte\n",
      "Error decoding line 675998: b'contrase\\xf1a\\n' - 'utf-8' codec can't decode byte 0xf1 in position 8: invalid continuation byte\n",
      "Error decoding line 746301: b'\\xc5repod\\n' - 'utf-8' codec can't decode byte 0xc5 in position 0: invalid continuation byte\n",
      "Error decoding line 774275: b'teextra\\xf1o\\n' - 'utf-8' codec can't decode byte 0xf1 in position 7: invalid continuation byte\n"
     ]
    },
    {
     "name": "stderr",
     "output_type": "stream",
     "text": [
      "Processing lines: 951702it [00:01, 771081.74it/s]"
     ]
    },
    {
     "name": "stdout",
     "output_type": "stream",
     "text": [
      "Error decoding line 847641: b'mu\\xf1eca\\n' - 'utf-8' codec can't decode byte 0xf1 in position 2: invalid continuation byte\n",
      "Error decoding line 861789: b'ma\\xf1ana\\n' - 'utf-8' codec can't decode byte 0xf1 in position 2: invalid continuation byte\n"
     ]
    },
    {
     "name": "stderr",
     "output_type": "stream",
     "text": [
      "Processing lines: 1113358it [00:01, 714083.81it/s]"
     ]
    },
    {
     "name": "stdout",
     "output_type": "stream",
     "text": [
      "Error decoding line 995206: b'cari\\xf1o\\n' - 'utf-8' codec can't decode byte 0xf1 in position 4: invalid continuation byte\n"
     ]
    },
    {
     "name": "stderr",
     "output_type": "stream",
     "text": [
      "Processing lines: 1268623it [00:01, 726767.05it/s]"
     ]
    },
    {
     "name": "stdout",
     "output_type": "stream",
     "text": [
      "Error decoding line 1136145: b'\\xe5\\xe6\\xf823\\n' - 'utf-8' codec can't decode byte 0xe5 in position 0: invalid continuation byte\n",
      "Error decoding line 1136242: b'\\xa2\\xb8\\xa2\\xb7\\xa2\\xb5\\xa2\\xb6\\xa2\\xb6\\xa2\\xb5\\xa2\\xb7\\n' - 'utf-8' codec can't decode byte 0xa2 in position 0: invalid start byte\n",
      "Error decoding line 1205980: b'to\\xf1ito\\n' - 'utf-8' codec can't decode byte 0xf1 in position 2: invalid continuation byte\n"
     ]
    },
    {
     "name": "stderr",
     "output_type": "stream",
     "text": [
      "Processing lines: 1659815it [00:02, 949106.75it/s]"
     ]
    },
    {
     "name": "stdout",
     "output_type": "stream",
     "text": [
      "Error decoding line 1438212: b'ni\\xf1o26\\n' - 'utf-8' codec can't decode byte 0xf1 in position 2: invalid continuation byte\n",
      "Error decoding line 1497152: b'midulceni\\xf1a\\n' - 'utf-8' codec can't decode byte 0xf1 in position 9: invalid continuation byte\n",
      "Error decoding line 1573394: b'lime\\xf1o\\n' - 'utf-8' codec can't decode byte 0xf1 in position 4: invalid continuation byte\n",
      "Error decoding line 1601610: b'k\\xe6rlighed\\n' - 'utf-8' codec can't decode byte 0xe6 in position 1: invalid continuation byte\n"
     ]
    },
    {
     "name": "stderr",
     "output_type": "stream",
     "text": [
      "Processing lines: 1976665it [00:02, 1015291.41it/s]"
     ]
    },
    {
     "name": "stdout",
     "output_type": "stream",
     "text": [
      "Error decoding line 1761223: b'gr\\xe9vistes\\n' - 'utf-8' codec can't decode byte 0xe9 in position 2: invalid continuation byte\n",
      "Error decoding line 2025829: b'asdfghjkl\\xf1\\n' - 'utf-8' codec can't decode byte 0xf1 in position 9: invalid continuation byte\n"
     ]
    },
    {
     "name": "stderr",
     "output_type": "stream",
     "text": [
      "Processing lines: 2623504it [00:03, 950683.87it/s] "
     ]
    },
    {
     "name": "stdout",
     "output_type": "stream",
     "text": [
      "Error decoding line 2459759: b'\\xfatvarp\\n' - 'utf-8' codec can't decode byte 0xfa in position 0: invalid start byte\n",
      "Error decoding line 2459760: b'\\xf396691\\n' - 'utf-8' codec can't decode byte 0xf3 in position 0: invalid continuation byte\n",
      "Error decoding line 2459761: b'\\xf1\\xf1\\xf1111\\n' - 'utf-8' codec can't decode byte 0xf1 in position 0: invalid continuation byte\n",
      "Error decoding line 2459763: b'\\xf1e\\xf1a010307\\n' - 'utf-8' codec can't decode byte 0xf1 in position 0: invalid continuation byte\n",
      "Error decoding line 2459764: b'\\xf1ep123\\n' - 'utf-8' codec can't decode byte 0xf1 in position 0: invalid continuation byte\n",
      "Error decoding line 2459765: b'\\xf1a\\xf1o\\xf1a\\xf1a\\n' - 'utf-8' codec can't decode byte 0xf1 in position 0: invalid continuation byte\n",
      "Error decoding line 2459766: b'\\xf1a\\xf1elito\\n' - 'utf-8' codec can't decode byte 0xf1 in position 0: invalid continuation byte\n",
      "Error decoding line 2459767: b'\\xf1a\\xf1el\\n' - 'utf-8' codec can't decode byte 0xf1 in position 0: invalid continuation byte\n",
      "Error decoding line 2459768: b'\\xf1a\\xf1assiempre\\n' - 'utf-8' codec can't decode byte 0xf1 in position 0: invalid continuation byte\n",
      "Error decoding line 2459778: b'\\xed210131\\xed\\n' - 'utf-8' codec can't decode byte 0xed in position 0: invalid continuation byte\n",
      "Error decoding line 2459779: b'\\xec789op\\n' - 'utf-8' codec can't decode byte 0xec in position 0: invalid continuation byte\n",
      "Error decoding line 2459792: b'\\xe3lexandra\\n' - 'utf-8' codec can't decode byte 0xe3 in position 0: invalid continuation byte\n",
      "Error decoding line 2459793: b'\\xe3drtrato\\n' - 'utf-8' codec can't decode byte 0xe3 in position 0: invalid continuation byte\n",
      "Error decoding line 2459881: b'\\xe1\\xfa\\xe0\\xec\\xe5\\xf1\\xf1\\n' - 'utf-8' codec can't decode byte 0xe1 in position 0: invalid continuation byte\n",
      "Error decoding line 2459882: b'\\xe1\\xf7\\xe1\\xe5\\xf7\\xf1\\xe2\\xe5\\xf8\\n' - 'utf-8' codec can't decode byte 0xe1 in position 0: invalid continuation byte\n",
      "Error decoding line 2459883: b'\\xe1\\xf1\\xe5\\xf7\\xe9\\n' - 'utf-8' codec can't decode byte 0xe1 in position 0: invalid continuation byte\n",
      "Error decoding line 2459905: b'\\xe1toso\\n' - 'utf-8' codec can't decode byte 0xe1 in position 0: invalid continuation byte\n",
      "Error decoding line 2459906: b'\\xe0\\xe3\\xed\\xf0\\xf9\\xee\\xfa\\xe9\\n' - 'utf-8' codec can't decode byte 0xe0 in position 0: invalid continuation byte\n",
      "Error decoding line 2459907: b'\\xe0\\xc3\\xd5\\xc2\\xb9\\xb7\\xd5\\xe8\\xe4\\xcb\\xb9\\xcd\\xe8\\xd0\\n' - 'utf-8' codec can't decode byte 0xe0 in position 0: invalid continuation byte\n",
      "Error decoding line 2464159: b'\\xe0\\xa8\\xc9\\xae\\xd2\\xbe\\xc3\\n' - 'utf-8' codec can't decode bytes in position 0-1: invalid continuation byte\n",
      "Error decoding line 2464456: b'\\xd2\\xd1\\xb9\\xd2\\xb9\\xcb\\xd0\\xb9\\xbe\\xd1\\xbc\\n' - 'utf-8' codec can't decode byte 0xd2 in position 0: invalid continuation byte\n",
      "Error decoding line 2464580: b'\\xcb\\xc3\\xd02518\\n' - 'utf-8' codec can't decode byte 0xcb in position 0: invalid continuation byte\n",
      "Error decoding line 2464581: b'\\xcb\\xbf\\xd7\\xd0\\xc3\\xc2\\n' - 'utf-8' codec can't decode byte 0xd7 in position 2: invalid continuation byte\n",
      "Error decoding line 2464583: b'\\xcb\\xb9\\xd7\\xe0\\xb7\\xc2\\n' - 'utf-8' codec can't decode byte 0xd7 in position 2: invalid continuation byte\n",
      "Error decoding line 2465713: b'\\xc0\\xb5\\xa8\\xd8\\xe5\\xa8---\\xa8\\n' - 'utf-8' codec can't decode byte 0xc0 in position 0: invalid start byte\n",
      "Error decoding line 2465714: b'\\xb7\\xbf\\xc32206\\n' - 'utf-8' codec can't decode byte 0xb7 in position 0: invalid start byte\n",
      "Error decoding line 2465715: b'\\xb4millencolin\\n' - 'utf-8' codec can't decode byte 0xb4 in position 0: invalid start byte\n",
      "Error decoding line 2465716: b'\\xb4laurinha\\n' - 'utf-8' codec can't decode byte 0xb4 in position 0: invalid start byte\n",
      "Error decoding line 2465717: b'\\xb4gerardo\\n' - 'utf-8' codec can't decode byte 0xb4 in position 0: invalid start byte\n",
      "Error decoding line 2465718: b'\\xb4capitulo\\n' - 'utf-8' codec can't decode byte 0xb4 in position 0: invalid start byte\n",
      "Error decoding line 2465719: b'\\xb4PIERINA\\n' - 'utf-8' codec can't decode byte 0xb4 in position 0: invalid start byte\n",
      "Error decoding line 2465720: b'\\xb0pjakkur9\\n' - 'utf-8' codec can't decode byte 0xb0 in position 0: invalid start byte\n",
      "Error decoding line 2465721: b'\\xb0hugo\\xb0\\xb0\\n' - 'utf-8' codec can't decode byte 0xb0 in position 0: invalid start byte\n",
      "Error decoding line 2465722: b'\\xa8\\xa4--\\xa8/--\\xb5\\xe5\\n' - 'utf-8' codec can't decode byte 0xa8 in position 0: invalid start byte\n",
      "Error decoding line 2465723: b'\\xa8ske0109\\n' - 'utf-8' codec can't decode byte 0xa8 in position 0: invalid start byte\n",
      "Error decoding line 2465724: b'\\xa7uper!\\n' - 'utf-8' codec can't decode byte 0xa7 in position 0: invalid start byte\n",
      "Error decoding line 2465725: b'\\xa4\\xa8\\xa8/\\xd6\\xc0\\xc0\\n' - 'utf-8' codec can't decode byte 0xa4 in position 0: invalid start byte\n",
      "Error decoding line 2465726: b'\\xa2\\xbe/cair\\n' - 'utf-8' codec can't decode byte 0xa2 in position 0: invalid start byte\n",
      "Error decoding line 2465727: b'\\xa2\\xb1\\xa2\\xb7\\xa2\\xb8\\xa2\\xb7\\xa2\\xb2\\xa2\\xb0\\xa2\\xb0\\xa2\\xb7\\n' - 'utf-8' codec can't decode byte 0xa2 in position 0: invalid start byte\n",
      "Error decoding line 2465728: b'\\x80a\\xe6m\\xa7y\\x87!\\n' - 'utf-8' codec can't decode byte 0x80 in position 0: invalid start byte\n",
      "Error decoding line 2465729: b'\\x8007251981\\n' - 'utf-8' codec can't decode byte 0x80 in position 0: invalid start byte\n",
      "Error decoding line 2468220: b'|guril\\xe7a2\\n' - 'utf-8' codec can't decode byte 0xe7 in position 6: invalid continuation byte\n",
      "Error decoding line 2468732: b'z\\x8012345\\n' - 'utf-8' codec can't decode byte 0x80 in position 1: invalid start byte\n",
      "Error decoding line 2474467: b'zu\\xf1iga\\n' - 'utf-8' codec can't decode byte 0xf1 in position 2: invalid continuation byte\n",
      "Error decoding line 2693757: b'w\\xe6nnah\\n' - 'utf-8' codec can't decode byte 0xe6 in position 1: invalid continuation byte\n"
     ]
    },
    {
     "name": "stderr",
     "output_type": "stream",
     "text": [
      "Processing lines: 3034176it [00:03, 898971.46it/s]"
     ]
    },
    {
     "name": "stdout",
     "output_type": "stream",
     "text": [
      "Error decoding line 2866699: b'vi\\xf1avi\\xf1a12\\n' - 'utf-8' codec can't decode byte 0xf1 in position 2: invalid continuation byte\n",
      "Error decoding line 2876204: b'virgilio\\xa0\\n' - 'utf-8' codec can't decode byte 0xa0 in position 8: invalid start byte\n",
      "Error decoding line 2934879: b'vanessi\\xf1a\\n' - 'utf-8' codec can't decode byte 0xf1 in position 7: invalid continuation byte\n",
      "Error decoding line 2972030: b'ure\\xf1a12345\\n' - 'utf-8' codec can't decode byte 0xf1 in position 3: invalid continuation byte\n",
      "Error decoding line 3020227: b'txtra\\xf1o\\n' - 'utf-8' codec can't decode byte 0xf1 in position 5: invalid continuation byte\n"
     ]
    },
    {
     "name": "stderr",
     "output_type": "stream",
     "text": [
      "Processing lines: 3222452it [00:03, 845685.55it/s]"
     ]
    },
    {
     "name": "stdout",
     "output_type": "stream",
     "text": [
      "Error decoding line 3084339: b'trey\\xfcp611\\n' - 'utf-8' codec can't decode byte 0xfc in position 4: invalid start byte\n",
      "Error decoding line 3123133: b'topher\\xe0_\\n' - 'utf-8' codec can't decode byte 0xe0 in position 6: invalid continuation byte\n",
      "Error decoding line 3211335: b'tigreto\\xf1o\\n' - 'utf-8' codec can't decode byte 0xf1 in position 7: invalid continuation byte\n"
     ]
    },
    {
     "name": "stderr",
     "output_type": "stream",
     "text": [
      "Processing lines: 3402186it [00:03, 799547.41it/s]"
     ]
    },
    {
     "name": "stdout",
     "output_type": "stream",
     "text": [
      "Error decoding line 3267027: b'tharisi\\xf1a\\n' - 'utf-8' codec can't decode byte 0xf1 in position 7: invalid continuation byte\n",
      "Error decoding line 3267794: b'thankyou\\xf1ine\\n' - 'utf-8' codec can't decode byte 0xf1 in position 8: invalid continuation byte\n",
      "Error decoding line 3308433: b'tefi\\xf1a\\n' - 'utf-8' codec can't decode byte 0xf1 in position 4: invalid continuation byte\n",
      "Error decoding line 3320374: b'teamoper\\xfa\\n' - 'utf-8' codec can't decode byte 0xfa in position 8: invalid start byte\n",
      "Error decoding line 3325905: b'teamobbita\\xe7\\n' - 'utf-8' codec can't decode byte 0xe7 in position 10: invalid continuation byte\n"
     ]
    },
    {
     "name": "stderr",
     "output_type": "stream",
     "text": [
      "Processing lines: 3575385it [00:04, 732917.89it/s]"
     ]
    },
    {
     "name": "stdout",
     "output_type": "stream",
     "text": [
      "Error decoding line 3467192: b'sure\\xf1o.\\n' - 'utf-8' codec can't decode byte 0xf1 in position 4: invalid continuation byte\n",
      "Error decoding line 3497537: b'sue\\xf1os\\n' - 'utf-8' codec can't decode byte 0xf1 in position 3: invalid continuation byte\n",
      "Error decoding line 3510633: b'str\\xf8mmen\\n' - 'utf-8' codec can't decode byte 0xf8 in position 3: invalid start byte\n"
     ]
    },
    {
     "name": "stderr",
     "output_type": "stream",
     "text": [
      "Processing lines: 3732934it [00:04, 750201.75it/s]"
     ]
    },
    {
     "name": "stdout",
     "output_type": "stream",
     "text": [
      "Error decoding line 3604537: b'so\\xf1ador\\n' - 'utf-8' codec can't decode byte 0xf1 in position 2: invalid continuation byte\n",
      "Error decoding line 3657122: b'sn\\xe6lda\\n' - 'utf-8' codec can't decode byte 0xe6 in position 2: invalid continuation byte\n",
      "Error decoding line 3755321: b'silvi\\xf1a\\n' - 'utf-8' codec can't decode byte 0xf1 in position 5: invalid continuation byte\n"
     ]
    },
    {
     "name": "stderr",
     "output_type": "stream",
     "text": [
      "Processing lines: 4191963it [00:05, 665827.22it/s]"
     ]
    },
    {
     "name": "stdout",
     "output_type": "stream",
     "text": [
      "Error decoding line 3953865: b'schei\\xdfer\\n' - 'utf-8' codec can't decode byte 0xdf in position 5: invalid continuation byte\n",
      "Error decoding line 3960132: b'sc1234\\xa7\\n' - 'utf-8' codec can't decode byte 0xa7 in position 6: invalid start byte\n",
      "Error decoding line 3964192: b'sa\\xf1averry\\n' - 'utf-8' codec can't decode byte 0xf1 in position 2: invalid continuation byte\n",
      "Error decoding line 4012583: b'sandiol\\xf1a\\n' - 'utf-8' codec can't decode byte 0xf1 in position 7: invalid continuation byte\n",
      "Error decoding line 4039681: b'salobre\\xf1a\\n' - 'utf-8' codec can't decode byte 0xf1 in position 7: invalid continuation byte\n",
      "Error decoding line 4097462: b'r\\xedmekben\\n' - 'utf-8' codec can't decode byte 0xed in position 1: invalid continuation byte\n"
     ]
    },
    {
     "name": "stderr",
     "output_type": "stream",
     "text": [
      "Processing lines: 4391566it [00:05, 818284.57it/s]"
     ]
    },
    {
     "name": "stdout",
     "output_type": "stream",
     "text": [
      "Error decoding line 4217898: b'roberti\\xf1a\\n' - 'utf-8' codec can't decode byte 0xf1 in position 7: invalid continuation byte\n",
      "Error decoding line 4338159: b'rebel\\xf1deau\\n' - 'utf-8' codec can't decode byte 0xf1 in position 5: invalid continuation byte\n",
      "Error decoding line 4354412: b'ra\\xf6\\xf6oe\\n' - 'utf-8' codec can't decode byte 0xf6 in position 2: invalid start byte\n",
      "Error decoding line 4357074: b'rayssi\\xf1au\\n' - 'utf-8' codec can't decode byte 0xf1 in position 6: invalid continuation byte\n",
      "Error decoding line 4441174: b'qvival\\xf1ajuerga\\n' - 'utf-8' codec can't decode byte 0xf1 in position 6: invalid continuation byte\n"
     ]
    },
    {
     "name": "stderr",
     "output_type": "stream",
     "text": [
      "Processing lines: 4583419it [00:05, 862242.55it/s]"
     ]
    },
    {
     "name": "stdout",
     "output_type": "stream",
     "text": [
      "Error decoding line 4491809: b'punkb\\xf1ast\\n' - 'utf-8' codec can't decode byte 0xf1 in position 5: invalid continuation byte\n",
      "Error decoding line 4502324: b'puds1983\\x95\\n' - 'utf-8' codec can't decode byte 0x95 in position 8: invalid start byte\n",
      "Error decoding line 4588220: b'pol\\xf6\\xe4\\n' - 'utf-8' codec can't decode byte 0xf6 in position 3: invalid start byte\n",
      "Error decoding line 4630742: b'pi\\xf1uelas\\n' - 'utf-8' codec can't decode byte 0xf1 in position 2: invalid continuation byte\n",
      "Error decoding line 4630743: b'pi\\xf1ijajaasisoy\\n' - 'utf-8' codec can't decode byte 0xf1 in position 2: invalid continuation byte\n",
      "Error decoding line 4630744: b'pi\\xf1apotoroto\\n' - 'utf-8' codec can't decode byte 0xf1 in position 2: invalid continuation byte\n",
      "Error decoding line 4634040: b'pitupitump\\xe0\\n' - 'utf-8' codec can't decode byte 0xe0 in position 10: invalid continuation byte\n",
      "Error decoding line 4640871: b'pira\\xf1a\\n' - 'utf-8' codec can't decode byte 0xf1 in position 4: invalid continuation byte\n",
      "Error decoding line 4642920: b'pipoka\\xb4\\n' - 'utf-8' codec can't decode byte 0xb4 in position 6: invalid start byte\n"
     ]
    },
    {
     "name": "stderr",
     "output_type": "stream",
     "text": [
      "Processing lines: 4884183it [00:06, 935420.78it/s]"
     ]
    },
    {
     "name": "stdout",
     "output_type": "stream",
     "text": [
      "Error decoding line 4700314: b'pe\\xf1a55\\n' - 'utf-8' codec can't decode byte 0xf1 in position 2: invalid continuation byte\n",
      "Error decoding line 4717288: b'perdi\\xf1a\\n' - 'utf-8' codec can't decode byte 0xf1 in position 5: invalid continuation byte\n",
      "Error decoding line 4718584: b'peque\\xf1a12\\n' - 'utf-8' codec can't decode byte 0xf1 in position 5: invalid continuation byte\n",
      "Error decoding line 4734110: b'peke\\xf1a\\n' - 'utf-8' codec can't decode byte 0xf1 in position 4: invalid continuation byte\n",
      "Error decoding line 4812096: b'pang\\xe4a\\n' - 'utf-8' codec can't decode byte 0xe4 in position 4: invalid continuation byte\n",
      "Error decoding line 4819857: b'pamel\\xf1a\\n' - 'utf-8' codec can't decode byte 0xf1 in position 5: invalid continuation byte\n",
      "Error decoding line 4874827: b'oskuridad1\\xe7\\n' - 'utf-8' codec can't decode byte 0xe7 in position 10: invalid continuation byte\n",
      "Error decoding line 4883023: b'orme\\xf1o\\n' - 'utf-8' codec can't decode byte 0xf1 in position 4: invalid continuation byte\n",
      "Error decoding line 4928566: b'olani\\xf1a\\n' - 'utf-8' codec can't decode byte 0xf1 in position 5: invalid continuation byte\n"
     ]
    },
    {
     "name": "stderr",
     "output_type": "stream",
     "text": [
      "Processing lines: 5169531it [00:06, 839617.32it/s]"
     ]
    },
    {
     "name": "stdout",
     "output_type": "stream",
     "text": [
      "Error decoding line 5031716: b'nojokl\\xb4p\\n' - 'utf-8' codec can't decode byte 0xb4 in position 6: invalid start byte\n",
      "Error decoding line 5052633: b'ni\\xf1acute\\n' - 'utf-8' codec can't decode byte 0xf1 in position 2: invalid continuation byte\n",
      "Error decoding line 5052634: b'ni\\xf1abella\\n' - 'utf-8' codec can't decode byte 0xf1 in position 2: invalid continuation byte\n",
      "Error decoding line 5116084: b'ne\\xf1a1\\n' - 'utf-8' codec can't decode byte 0xf1 in position 2: invalid continuation byte\n",
      "Error decoding line 5141666: b'nenal\\xf1indahottie\\n' - 'utf-8' codec can't decode byte 0xf1 in position 5: invalid continuation byte\n",
      "Error decoding line 5158986: b'neciosupmnu\\xf1ez\\n' - 'utf-8' codec can't decode byte 0xf1 in position 11: invalid continuation byte\n",
      "Error decoding line 5171542: b'nayiba\\xe7\\n' - 'utf-8' codec can't decode byte 0xe7 in position 6: invalid continuation byte\n"
     ]
    },
    {
     "name": "stderr",
     "output_type": "stream",
     "text": [
      "Processing lines: 5340876it [00:06, 817131.39it/s]"
     ]
    },
    {
     "name": "stdout",
     "output_type": "stream",
     "text": [
      "Error decoding line 5246548: b'm\\xfassa\\n' - 'utf-8' codec can't decode byte 0xfa in position 1: invalid start byte\n",
      "Error decoding line 5296553: b'mu\\xf1erita\\n' - 'utf-8' codec can't decode byte 0xf1 in position 2: invalid continuation byte\n",
      "Error decoding line 5337472: b\"msbehnjbmgl,\\xe7wsafgthbnujmfe\\\\\\\\'w\\n\" - 'utf-8' codec can't decode byte 0xe7 in position 12: invalid continuation byte\n",
      "Error decoding line 5349804: b'mrjmhbntgrfmlgi,tgm\\xf1hju,.yoiyt\\n' - 'utf-8' codec can't decode byte 0xf1 in position 19: invalid continuation byte\n",
      "Error decoding line 5363706: b'mour\\xe3o\\n' - 'utf-8' codec can't decode byte 0xe3 in position 4: invalid continuation byte\n",
      "Error decoding line 5393581: b'monta\\xf1a\\n' - 'utf-8' codec can't decode byte 0xf1 in position 5: invalid continuation byte\n",
      "Error decoding line 5430410: b'mohamed     \\xee\\n' - 'utf-8' codec can't decode byte 0xee in position 12: invalid continuation byte\n"
     ]
    },
    {
     "name": "stderr",
     "output_type": "stream",
     "text": [
      "Processing lines: 5706928it [00:07, 819089.58it/s]"
     ]
    },
    {
     "name": "stdout",
     "output_type": "stream",
     "text": [
      "Error decoding line 5599853: b'meu.espa\\xe7o\\n' - 'utf-8' codec can't decode byte 0xe7 in position 8: invalid continuation byte\n",
      "Error decoding line 5646643: b'megzuow\\xa34\\n' - 'utf-8' codec can't decode byte 0xa3 in position 7: invalid start byte\n",
      "Error decoding line 5658720: b'mediokilodecarne\\xe7\\n' - 'utf-8' codec can't decode byte 0xe7 in position 16: invalid continuation byte\n",
      "Error decoding line 5692727: b'ma\\xf1ita\\n' - 'utf-8' codec can't decode byte 0xf1 in position 2: invalid continuation byte\n"
     ]
    },
    {
     "name": "stderr",
     "output_type": "stream",
     "text": [
      "Processing lines: 5951352it [00:07, 765194.18it/s]"
     ]
    },
    {
     "name": "stdout",
     "output_type": "stream",
     "text": [
      "Error decoding line 5808301: b'mara\\xf1a\\n' - 'utf-8' codec can't decode byte 0xf1 in position 4: invalid continuation byte\n",
      "Error decoding line 5815429: b'man\\xf3ka\\n' - 'utf-8' codec can't decode byte 0xf3 in position 3: invalid continuation byte\n",
      "Error decoding line 5849599: b'mal\\xf6uco\\n' - 'utf-8' codec can't decode byte 0xf6 in position 3: invalid start byte\n",
      "Error decoding line 5856685: b'malenbj\\xf6\\n' - 'utf-8' codec can't decode byte 0xf6 in position 7: invalid start byte\n",
      "Error decoding line 5888795: b'mage\\xf1a\\n' - 'utf-8' codec can't decode byte 0xf1 in position 4: invalid continuation byte\n",
      "Error decoding line 5949678: b'l\\xfcvevn183\\n' - 'utf-8' codec can't decode byte 0xfc in position 1: invalid start byte\n",
      "Error decoding line 5949679: b'l\\xf8kl\\xf8kl\\xf8k\\n' - 'utf-8' codec can't decode byte 0xf8 in position 1: invalid start byte\n",
      "Error decoding line 5949680: b'l\\xf6senord\\n' - 'utf-8' codec can't decode byte 0xf6 in position 1: invalid start byte\n",
      "Error decoding line 5949681: b'l\\xe4ser\\n' - 'utf-8' codec can't decode byte 0xe4 in position 1: invalid continuation byte\n",
      "Error decoding line 5958015: b'lykilor\\xf0\\n' - 'utf-8' codec can't decode byte 0xf0 in position 7: invalid continuation byte\n"
     ]
    },
    {
     "name": "stderr",
     "output_type": "stream",
     "text": [
      "Processing lines: 6102872it [00:07, 723247.92it/s]"
     ]
    },
    {
     "name": "stdout",
     "output_type": "stream",
     "text": [
      "Error decoding line 5996757: b'luisi\\xf1o\\n' - 'utf-8' codec can't decode byte 0xf1 in position 5: invalid continuation byte\n",
      "Error decoding line 6135869: b'llavemari\\xf1os\\n' - 'utf-8' codec can't decode byte 0xf1 in position 9: invalid continuation byte\n"
     ]
    },
    {
     "name": "stderr",
     "output_type": "stream",
     "text": [
      "Processing lines: 6246612it [00:07, 648566.33it/s]"
     ]
    },
    {
     "name": "stdout",
     "output_type": "stream",
     "text": [
      "Error decoding line 6177234: b'lindaotoyamu\\xf1oz\\n' - 'utf-8' codec can't decode byte 0xf1 in position 12: invalid continuation byte\n"
     ]
    },
    {
     "name": "stderr",
     "output_type": "stream",
     "text": [
      "Processing lines: 6394400it [00:08, 688610.26it/s]"
     ]
    },
    {
     "name": "stdout",
     "output_type": "stream",
     "text": [
      "Error decoding line 6319074: b'lauri\\xf1a\\n' - 'utf-8' codec can't decode byte 0xf1 in position 5: invalid continuation byte\n",
      "Error decoding line 6410866: b'l0$\\x86w1\\x86h4l0\\xf1\\xb3l\\xfdh\\xb3\\xe5\\xae\\x86\\n' - 'utf-8' codec can't decode byte 0x86 in position 3: invalid start byte\n"
     ]
    },
    {
     "name": "stderr",
     "output_type": "stream",
     "text": [
      "Processing lines: 6464030it [00:08, 498159.99it/s]"
     ]
    },
    {
     "name": "stdout",
     "output_type": "stream",
     "text": [
      "Error decoding line 6450921: b'kr\\xf6te31\\n' - 'utf-8' codec can't decode byte 0xf6 in position 2: invalid start byte\n"
     ]
    },
    {
     "name": "stderr",
     "output_type": "stream",
     "text": [
      "Processing lines: 6570545it [00:08, 394326.59it/s]"
     ]
    },
    {
     "name": "stdout",
     "output_type": "stream",
     "text": [
      "Error decoding line 6530950: b'kjhasbkscabjklfsakhlafskdhl\\xf1\\n' - 'utf-8' codec can't decode byte 0xf1 in position 27: invalid continuation byte\n"
     ]
    },
    {
     "name": "stderr",
     "output_type": "stream",
     "text": [
      "Processing lines: 7089643it [00:09, 855302.20it/s]"
     ]
    },
    {
     "name": "stdout",
     "output_type": "stream",
     "text": [
      "Error decoding line 6792103: b'j\\xfcliet1991\\n' - 'utf-8' codec can't decode byte 0xfc in position 1: invalid start byte\n",
      "Error decoding line 6792104: b'j\\xe9r\\xe9mie\\n' - 'utf-8' codec can't decode byte 0xe9 in position 1: invalid continuation byte\n",
      "Error decoding line 6899294: b'jordb\\xe6r\\n' - 'utf-8' codec can't decode byte 0xe6 in position 5: invalid continuation byte\n",
      "Error decoding line 6925628: b'johnny\\xa3\\n' - 'utf-8' codec can't decode byte 0xa3 in position 6: invalid start byte\n",
      "Error decoding line 7164316: b'jansen-prei\\xdf\\n' - 'utf-8' codec can't decode byte 0xdf in position 11: invalid continuation byte\n"
     ]
    },
    {
     "name": "stderr",
     "output_type": "stream",
     "text": [
      "Processing lines: 7607849it [00:09, 1012397.24it/s]"
     ]
    },
    {
     "name": "stdout",
     "output_type": "stream",
     "text": [
      "Error decoding line 7329739: b'ingis\\xe6ti\\n' - 'utf-8' codec can't decode byte 0xe6 in position 5: invalid continuation byte\n",
      "Error decoding line 7491826: b'h\\xe6h\\xe6h\\xe6\\n' - 'utf-8' codec can't decode byte 0xe6 in position 1: invalid continuation byte\n",
      "Error decoding line 7620988: b'herp\\xe5berget\\n' - 'utf-8' codec can't decode byte 0xe5 in position 4: invalid continuation byte\n"
     ]
    },
    {
     "name": "stderr",
     "output_type": "stream",
     "text": [
      "Processing lines: 7802672it [00:10, 898711.45it/s] "
     ]
    },
    {
     "name": "stdout",
     "output_type": "stream",
     "text": [
      "Error decoding line 7708335: b'hall\\xf6chen\\n' - 'utf-8' codec can't decode byte 0xf6 in position 4: invalid start byte\n",
      "Error decoding line 7742446: b'gu\\xf0mundur\\n' - 'utf-8' codec can't decode byte 0xf0 in position 2: invalid continuation byte\n",
      "Error decoding line 7763155: b'guapoako\\xa7\\n' - 'utf-8' codec can't decode byte 0xa7 in position 8: invalid start byte\n",
      "Error decoding line 7779860: b'gretarsdottir\\xb01\\n' - 'utf-8' codec can't decode byte 0xb0 in position 13: invalid start byte\n",
      "Error decoding line 7789387: b'gra\\xe7a\\n' - 'utf-8' codec can't decode byte 0xe7 in position 3: invalid continuation byte\n",
      "Error decoding line 7820596: b'gon\\xe7alo\\n' - 'utf-8' codec can't decode byte 0xe7 in position 3: invalid continuation byte\n"
     ]
    },
    {
     "name": "stderr",
     "output_type": "stream",
     "text": [
      "Processing lines: 7984107it [00:10, 749817.01it/s]"
     ]
    },
    {
     "name": "stdout",
     "output_type": "stream",
     "text": [
      "Error decoding line 7903669: b'gest\\xf6rt\\n' - 'utf-8' codec can't decode byte 0xf6 in position 4: invalid start byte\n",
      "Error decoding line 7908811: b'gerard\\xa7101\\n' - 'utf-8' codec can't decode byte 0xa7 in position 6: invalid start byte\n"
     ]
    },
    {
     "name": "stderr",
     "output_type": "stream",
     "text": [
      "Processing lines: 8141268it [00:10, 714458.54it/s]"
     ]
    },
    {
     "name": "stdout",
     "output_type": "stream",
     "text": [
      "Error decoding line 8028603: b'fri\\xf0rik ingi\\n' - 'utf-8' codec can't decode byte 0xf0 in position 3: invalid continuation byte\n",
      "Error decoding line 8046917: b'fran\\xe7a\\n' - 'utf-8' codec can't decode byte 0xe7 in position 4: invalid continuation byte\n",
      "Error decoding line 8136285: b'fe\\xf1ita\\n' - 'utf-8' codec can't decode byte 0xf1 in position 2: invalid continuation byte\n"
     ]
    },
    {
     "name": "stderr",
     "output_type": "stream",
     "text": [
      "Processing lines: 8376093it [00:10, 710389.17it/s]"
     ]
    },
    {
     "name": "stdout",
     "output_type": "stream",
     "text": [
      "Error decoding line 8219346: b'ey\\xe4hm.\\n' - 'utf-8' codec can't decode byte 0xe4 in position 2: invalid continuation byte\n",
      "Error decoding line 8385639: b'el Se\\xf1or es mi Salavador\\n' - 'utf-8' codec can't decode byte 0xf1 in position 5: invalid continuation byte\n"
     ]
    },
    {
     "name": "stderr",
     "output_type": "stream",
     "text": [
      "Processing lines: 8708173it [00:11, 807991.38it/s]"
     ]
    },
    {
     "name": "stdout",
     "output_type": "stream",
     "text": [
      "Error decoding line 8600261: b'dise\\xf1o\\n' - 'utf-8' codec can't decode byte 0xf1 in position 4: invalid continuation byte\n",
      "Error decoding line 8621895: b'die\\xe4rzte\\n' - 'utf-8' codec can't decode byte 0xe4 in position 3: invalid continuation byte\n"
     ]
    },
    {
     "name": "stderr",
     "output_type": "stream",
     "text": [
      "Processing lines: 8961441it [00:11, 779615.48it/s]"
     ]
    },
    {
     "name": "stdout",
     "output_type": "stream",
     "text": [
      "Error decoding line 8860514: b'c\\xea3digo\\n' - 'utf-8' codec can't decode byte 0xea in position 1: invalid continuation byte\n",
      "Error decoding line 8888534: b'cumplea\\xf1os\\n' - 'utf-8' codec can't decode byte 0xf1 in position 7: invalid continuation byte\n",
      "Error decoding line 8943077: b'co\\xf1o140\\n' - 'utf-8' codec can't decode byte 0xf1 in position 2: invalid continuation byte\n",
      "Error decoding line 8964523: b'corazon\\xe7\\n' - 'utf-8' codec can't decode byte 0xe7 in position 7: invalid continuation byte\n",
      "Error decoding line 8983456: b'conmuxokri\\xf1o\\n' - 'utf-8' codec can't decode byte 0xf1 in position 10: invalid continuation byte\n"
     ]
    },
    {
     "name": "stderr",
     "output_type": "stream",
     "text": [
      "Processing lines: 9352696it [00:12, 517677.76it/s]"
     ]
    },
    {
     "name": "stdout",
     "output_type": "stream",
     "text": [
      "Error decoding line 9264638: b'casta\\xf1uelas\\n' - 'utf-8' codec can't decode byte 0xf1 in position 5: invalid continuation byte\n",
      "Error decoding line 9347477: b'caetano\\xa3carol\\n' - 'utf-8' codec can't decode byte 0xa3 in position 7: invalid start byte\n"
     ]
    },
    {
     "name": "stderr",
     "output_type": "stream",
     "text": [
      "Processing lines: 9509721it [00:12, 659615.44it/s]"
     ]
    },
    {
     "name": "stdout",
     "output_type": "stream",
     "text": [
      "Error decoding line 9375081: b'b\\xe4rtram\\n' - 'utf-8' codec can't decode byte 0xe4 in position 1: invalid continuation byte\n",
      "Error decoding line 9421414: b'bubi\\xf1a\\n' - 'utf-8' codec can't decode byte 0xf1 in position 4: invalid continuation byte\n",
      "Error decoding line 9456853: b'brise\\xf1o\\n' - 'utf-8' codec can't decode byte 0xf1 in position 5: invalid continuation byte\n",
      "Error decoding line 9557179: b'bn&\\xe7sf\\n' - 'utf-8' codec can't decode byte 0xe7 in position 3: invalid continuation byte\n",
      "Error decoding line 9562413: b'bl\\xfcmchen\\n' - 'utf-8' codec can't decode byte 0xfc in position 2: invalid start byte\n"
     ]
    },
    {
     "name": "stderr",
     "output_type": "stream",
     "text": [
      "Processing lines: 9773532it [00:12, 804781.85it/s]"
     ]
    },
    {
     "name": "stdout",
     "output_type": "stream",
     "text": [
      "Error decoding line 9577834: b'blondie!\\xac\\n' - 'utf-8' codec can't decode byte 0xac in position 8: invalid start byte\n",
      "Error decoding line 9656821: b'bhd701\\xa3\\n' - 'utf-8' codec can't decode byte 0xa3 in position 6: invalid start byte\n"
     ]
    },
    {
     "name": "stderr",
     "output_type": "stream",
     "text": [
      "Processing lines: 10057993it [00:13, 896846.42it/s]"
     ]
    },
    {
     "name": "stdout",
     "output_type": "stream",
     "text": [
      "Error decoding line 9876185: b'a\\xf1igdhkwbnw\\xf1ro\\n' - 'utf-8' codec can't decode byte 0xf1 in position 1: invalid continuation byte\n",
      "Error decoding line 9949358: b'asl\\xfdhan123\\n' - 'utf-8' codec can't decode byte 0xfd in position 3: invalid start byte\n",
      "Error decoding line 9950058: b'ask\\xfdm\\n' - 'utf-8' codec can't decode byte 0xfd in position 3: invalid start byte\n",
      "Error decoding line 9968617: b'asdf\\xf1lkj\\n' - 'utf-8' codec can't decode byte 0xf1 in position 4: invalid continuation byte\n",
      "Error decoding line 9968944: b'asdfghjkl\\xf6\\xe4\\n' - 'utf-8' codec can't decode byte 0xf6 in position 9: invalid start byte\n"
     ]
    },
    {
     "name": "stderr",
     "output_type": "stream",
     "text": [
      "Processing lines: 10252897it [00:13, 938780.28it/s]"
     ]
    },
    {
     "name": "stdout",
     "output_type": "stream",
     "text": [
      "Error decoding line 10109419: b'andr\\xe1s\\n' - 'utf-8' codec can't decode byte 0xe1 in position 4: invalid continuation byte\n",
      "Error decoding line 10196640: b'alt\\xfdntepe\\n' - 'utf-8' codec can't decode byte 0xfd in position 3: invalid start byte\n",
      "Error decoding line 10203123: b'alonsoymel\\xf1isa\\n' - 'utf-8' codec can't decode byte 0xf1 in position 10: invalid continuation byte\n",
      "Error decoding line 10223020: b'alitah\\xe7\\n' - 'utf-8' codec can't decode byte 0xe7 in position 6: invalid continuation byte\n"
     ]
    },
    {
     "name": "stderr",
     "output_type": "stream",
     "text": [
      "Processing lines: 10458313it [00:13, 953859.38it/s]"
     ]
    },
    {
     "name": "stdout",
     "output_type": "stream",
     "text": [
      "Error decoding line 10358763: b'adjok\\xe8\\n' - 'utf-8' codec can't decode byte 0xe8 in position 5: invalid continuation byte\n",
      "Error decoding line 10380587: b'acompa\\xf1ame\\n' - 'utf-8' codec can't decode byte 0xf1 in position 6: invalid continuation byte\n",
      "Error decoding line 10540515: b'Te\\xf1efono\\n' - 'utf-8' codec can't decode byte 0xf1 in position 2: invalid continuation byte\n",
      "Error decoding line 10553785: b'TRIGE\\xd1A\\n' - 'utf-8' codec can't decode byte 0xd1 in position 5: invalid continuation byte\n"
     ]
    },
    {
     "name": "stderr",
     "output_type": "stream",
     "text": [
      "Processing lines: 10781652it [00:13, 1032021.41it/s]"
     ]
    },
    {
     "name": "stdout",
     "output_type": "stream",
     "text": [
      "Error decoding line 10617301: b'Sa190Fg\\xf6\\n' - 'utf-8' codec can't decode byte 0xf6 in position 7: invalid start byte\n",
      "Error decoding line 10715224: b'P\\xc9NISCILINAREAL\\n' - 'utf-8' codec can't decode byte 0xc9 in position 1: invalid continuation byte\n",
      "Error decoding line 10717395: b'Pr\\xfcfung1\\n' - 'utf-8' codec can't decode byte 0xfc in position 2: invalid start byte\n",
      "Error decoding line 10787733: b'Nadam\\xe1s\\n' - 'utf-8' codec can't decode byte 0xe1 in position 5: invalid continuation byte\n",
      "Error decoding line 10805951: b'NALI\\xd1A\\n' - 'utf-8' codec can't decode byte 0xd1 in position 4: invalid continuation byte\n",
      "Error decoding line 10808650: b'M\\xfccke\\n' - 'utf-8' codec can't decode byte 0xfc in position 1: invalid start byte\n",
      "Error decoding line 10808651: b'M\\xe4dchen14\\n' - 'utf-8' codec can't decode byte 0xe4 in position 1: invalid continuation byte\n"
     ]
    },
    {
     "name": "stderr",
     "output_type": "stream",
     "text": [
      "Processing lines: 11105062it [00:14, 1012856.62it/s]"
     ]
    },
    {
     "name": "stdout",
     "output_type": "stream",
     "text": [
      "Error decoding line 10898335: b'L\\xe4chle...\\n' - 'utf-8' codec can't decode byte 0xe4 in position 1: invalid continuation byte\n",
      "Error decoding line 10963151: b'Kr\\xe4tschi\\n' - 'utf-8' codec can't decode byte 0xe4 in position 2: invalid continuation byte\n",
      "Error decoding line 11036902: b'JOSU\\xc9\\n' - 'utf-8' codec can't decode byte 0xc9 in position 4: invalid continuation byte\n",
      "Error decoding line 11069573: b'Isol2113\\xf9\\n' - 'utf-8' codec can't decode byte 0xf9 in position 8: invalid start byte\n",
      "Error decoding line 11096462: b'H\\xfclsta23\\n' - 'utf-8' codec can't decode byte 0xfc in position 1: invalid start byte\n"
     ]
    },
    {
     "name": "stderr",
     "output_type": "stream",
     "text": [
      "Processing lines: 11207210it [00:14, 976298.73it/s] "
     ]
    },
    {
     "name": "stdout",
     "output_type": "stream",
     "text": [
      "Error decoding line 11128416: b'Gu\\xf0n\\xfd041085\\n' - 'utf-8' codec can't decode byte 0xf0 in position 2: invalid continuation byte\n",
      "Error decoding line 11210729: b'EL\\xddF1234\\n' - 'utf-8' codec can't decode byte 0xdd in position 2: invalid continuation byte\n",
      "Error decoding line 11280473: b'Co\\xf1oE-\\n' - 'utf-8' codec can't decode byte 0xf1 in position 2: invalid continuation byte\n"
     ]
    },
    {
     "name": "stderr",
     "output_type": "stream",
     "text": [
      "Processing lines: 11483560it [00:14, 739561.46it/s]"
     ]
    },
    {
     "name": "stdout",
     "output_type": "stream",
     "text": [
      "Error decoding line 11396590: b'BENILD\\xa7E\\n' - 'utf-8' codec can't decode byte 0xa7 in position 6: invalid start byte\n"
     ]
    },
    {
     "name": "stderr",
     "output_type": "stream",
     "text": [
      "Processing lines: 12126519it [00:15, 817015.42it/s]"
     ]
    },
    {
     "name": "stdout",
     "output_type": "stream",
     "text": [
      "Error decoding line 11956684: b'6hundra\\xf0\\n' - 'utf-8' codec can't decode byte 0xf0 in position 7: invalid continuation byte\n",
      "Error decoding line 11992532: b'676767\\xba\\n' - 'utf-8' codec can't decode byte 0xba in position 6: invalid start byte\n",
      "Error decoding line 12088786: b'5\\xa2ripkilla\\n' - 'utf-8' codec can't decode byte 0xa2 in position 1: invalid start byte\n"
     ]
    },
    {
     "name": "stderr",
     "output_type": "stream",
     "text": [
      "Processing lines: 13228446it [00:17, 933185.33it/s]"
     ]
    },
    {
     "name": "stdout",
     "output_type": "stream",
     "text": [
      "Error decoding line 13012466: b'1iloveme\\xf1o\\n' - 'utf-8' codec can't decode byte 0xf1 in position 8: invalid continuation byte\n"
     ]
    },
    {
     "name": "stderr",
     "output_type": "stream",
     "text": [
      "Processing lines: 14344391it [00:18, 778609.34it/s] "
     ]
    },
    {
     "name": "stdout",
     "output_type": "stream",
     "text": [
      "Error decoding line 14287422: b'-\\xc0\\xc0\\xa8\\xc0-\\xa4\\n' - 'utf-8' codec can't decode byte 0xc0 in position 1: invalid start byte\n",
      "Error decoding line 14288496: b'-kem-\\xa1\\n' - 'utf-8' codec can't decode byte 0xa1 in position 5: invalid start byte\n",
      "Error decoding line 14322099: b'&\\xe7&\\xe0&\\xe7_\"\\n' - 'utf-8' codec can't decode byte 0xe7 in position 1: invalid continuation byte\n",
      "Error decoding line 14344108: b' \\x93R3CKL3$$\\x94\\n' - 'utf-8' codec can't decode byte 0x93 in position 1: invalid start byte\n"
     ]
    },
    {
     "name": "stderr",
     "output_type": "stream",
     "text": [
      "\n"
     ]
    }
   ],
   "source": [
    "with open(wordListPath, 'rb') as file:  # Open in binary mode\n",
    "    for line_number, line in tqdm(enumerate(file), desc=\"Processing lines\"):\n",
    "        try:\n",
    "            # Decode each line, ignoring errors\n",
    "            text = line.decode('utf-8')  # You can change the encoding if needed\n",
    "            # Process the line (e.g., extract words, etc.)\n",
    "            # For demonstration, we will just pass\n",
    "            pass\n",
    "        except UnicodeDecodeError as err:\n",
    "            print(f\"Error decoding line {line_number}: {line} - {err}\")\n",
    "            binaryList.append({\n",
    "                'line_number': line_number,\n",
    "                'line': line,\n",
    "                'error': err\n",
    "            })"
   ]
  },
  {
   "cell_type": "code",
   "execution_count": 42,
   "metadata": {},
   "outputs": [
    {
     "data": {
      "text/plain": [
       "218"
      ]
     },
     "execution_count": 42,
     "metadata": {},
     "output_type": "execute_result"
    }
   ],
   "source": [
    "len(binaryList)"
   ]
  },
  {
   "cell_type": "code",
   "execution_count": 46,
   "metadata": {},
   "outputs": [
    {
     "data": {
      "text/plain": [
       "{'line_number': 602042,\n",
       " 'line': b'peque\\xf1a\\n',\n",
       " 'error': UnicodeDecodeError('utf-8',\n",
       "                    b'peque\\xf1a\\n',\n",
       "                    5,\n",
       "                    6,\n",
       "                    'invalid continuation byte')}"
      ]
     },
     "execution_count": 46,
     "metadata": {},
     "output_type": "execute_result"
    }
   ],
   "source": [
    "binaryList[0]"
   ]
  },
  {
   "cell_type": "code",
   "execution_count": null,
   "metadata": {},
   "outputs": [
    {
     "data": {
      "text/plain": [
       "326"
      ]
     },
     "execution_count": 61,
     "metadata": {},
     "output_type": "execute_result"
    }
   ],
   "source": [
    "available_encodings = sorted(encodings.aliases.aliases.keys())\n",
    "len(available_encodings)"
   ]
  },
  {
   "cell_type": "code",
   "execution_count": null,
   "metadata": {},
   "outputs": [
    {
     "name": "stdout",
     "output_type": "stream",
     "text": [
      "øÁÉÍÁ1/\n",
      "øÁÉÍÁ1/\n",
      "pequeёa\n",
      "\n",
      "øÁÉÍÁ1/\n",
      "pequeńa\n",
      "\n",
      "pequeсa\n",
      "\n",
      "pequeña\n",
      "\n",
      "pequeρa\n",
      "\n",
      "pequeña\n",
      "\n",
      "pequeסa\n",
      "\n",
      "pequeٌa\n",
      "\n",
      "pequeńa\n",
      "\n",
      "pequeña\n",
      "\n",
      "øÁÉÍÁ1/\n"
     ]
    }
   ],
   "source": [
    "try:\n",
    "    for encoding in available_encodings:\n",
    "        print(binaryList[0]['line'].decode(encoding))\n",
    "except Exception as err:\n",
    "    pass"
   ]
  },
  {
   "cell_type": "code",
   "execution_count": 66,
   "metadata": {},
   "outputs": [
    {
     "data": {
      "text/plain": [
       "'pequeña\\n'"
      ]
     },
     "execution_count": 66,
     "metadata": {},
     "output_type": "execute_result"
    }
   ],
   "source": [
    "binaryList[0]['line'].decode('latin-1')"
   ]
  }
 ],
 "metadata": {
  "kernelspec": {
   "display_name": "Python 3",
   "language": "python",
   "name": "python3"
  },
  "language_info": {
   "codemirror_mode": {
    "name": "ipython",
    "version": 3
   },
   "file_extension": ".py",
   "mimetype": "text/x-python",
   "name": "python",
   "nbconvert_exporter": "python",
   "pygments_lexer": "ipython3",
   "version": "3.10.12"
  }
 },
 "nbformat": 4,
 "nbformat_minor": 2
}
